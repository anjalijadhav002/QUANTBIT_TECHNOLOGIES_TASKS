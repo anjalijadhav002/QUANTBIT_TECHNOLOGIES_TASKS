{
  "nbformat": 4,
  "nbformat_minor": 0,
  "metadata": {
    "colab": {
      "provenance": [],
      "authorship_tag": "ABX9TyPM1NUTZcolEAEHOUFpV3w5",
      "include_colab_link": true
    },
    "kernelspec": {
      "name": "python3",
      "display_name": "Python 3"
    },
    "language_info": {
      "name": "python"
    }
  },
  "cells": [
    {
      "cell_type": "markdown",
      "metadata": {
        "id": "view-in-github",
        "colab_type": "text"
      },
      "source": [
        "<a href=\"https://colab.research.google.com/github/anjalijadhav002/QUANTBIT_TECHNOLOGIES_TASKS/blob/main/QUANTBIT_TECHNOLOGIES_Tasks.ipynb\" target=\"_parent\"><img src=\"https://colab.research.google.com/assets/colab-badge.svg\" alt=\"Open In Colab\"/></a>"
      ]
    },
    {
      "cell_type": "markdown",
      "source": [
        "Task 1\n",
        "Reverse a string without using built-in methods.\n",
        "Input: \"hello\"\n",
        "Output: \"olleh\""
      ],
      "metadata": {
        "id": "6myH6SSZvcs3"
      }
    },
    {
      "cell_type": "code",
      "source": [
        "def reverse_string(s):\n",
        "    reversed_str = \"\"\n",
        "    for char in s:\n",
        "        reversed_str = char + reversed_str\n",
        "    return reversed_str\n",
        "\n",
        "input_str = \"hello\"\n",
        "output_str = reverse_string(input_str)\n",
        "print(output_str)"
      ],
      "metadata": {
        "colab": {
          "base_uri": "https://localhost:8080/"
        },
        "id": "Z1itxVC_vgLl",
        "outputId": "9707e596-fb81-4e93-dd25-6e3d83fb2bb2"
      },
      "execution_count": null,
      "outputs": [
        {
          "output_type": "stream",
          "name": "stdout",
          "text": [
            "olleh\n"
          ]
        }
      ]
    },
    {
      "cell_type": "markdown",
      "source": [
        "Task 2\n",
        "Read a file containing integers and calculate their sum.\n",
        "Input (file content):\n",
        "12\n",
        "15\n",
        "8\n",
        "23\n",
        "Output: 58\n"
      ],
      "metadata": {
        "id": "u-sBUc7EyKVg"
      }
    },
    {
      "cell_type": "code",
      "source": [
        "def calculate_sum(file_name):\n",
        "    try:\n",
        "        with open(file_name, 'r') as file:\n",
        "            content = file.read()\n",
        "            numbers = map(int, content.split())\n",
        "            return sum(numbers)\n",
        "    except FileNotFoundError:\n",
        "        print(f\"Error: The file '{file_name}' was not found.\")\n",
        "        return None\n",
        "    except ValueError:\n",
        "        print(f\"Error: The file '{file_name}' contains invalid data (non-integer values).\")\n",
        "        return None\n",
        "\n",
        "file_name = \"/content/12 15 8 23.txt\"\n",
        "result = calculate_sum(file_name)\n",
        "\n",
        "if result is not None:\n",
        "    print(f\"The sum of integers in the file is: {result}\")\n"
      ],
      "metadata": {
        "colab": {
          "base_uri": "https://localhost:8080/"
        },
        "id": "i3JJVm6g0QRu",
        "outputId": "8e25238f-a49f-4882-bb8d-0fd556495aa0"
      },
      "execution_count": null,
      "outputs": [
        {
          "output_type": "stream",
          "name": "stdout",
          "text": [
            "The sum of integers in the file is: 58\n"
          ]
        }
      ]
    },
    {
      "cell_type": "markdown",
      "source": [
        "Task 3\n",
        "Find the second largest number in a list.\n",
        "Input: [10, 20, 4, 45, 99]\n",
        "Output: 45\n"
      ],
      "metadata": {
        "id": "KCnWwu-H1SBh"
      }
    },
    {
      "cell_type": "code",
      "source": [
        "def second_largest(numbers):\n",
        "    unique_numbers = list(set(numbers))\n",
        "    unique_numbers.sort(reverse=True)\n",
        "    return unique_numbers[1] if len(unique_numbers) > 1 else None\n",
        "\n",
        "numbers = [10, 20, 4, 45, 99]\n",
        "result = second_largest(numbers)\n",
        "if result is not None:\n",
        "    print(f\"The second largest number is: {result}\")\n",
        "else:\n",
        "    print(\"The list does not have enough unique elements.\")\n"
      ],
      "metadata": {
        "colab": {
          "base_uri": "https://localhost:8080/"
        },
        "id": "0Ar73mbM1Wl2",
        "outputId": "ebe34aa7-c798-493b-eb31-0d710cd42d46"
      },
      "execution_count": null,
      "outputs": [
        {
          "output_type": "stream",
          "name": "stdout",
          "text": [
            "The second largest number is: 45\n"
          ]
        }
      ]
    },
    {
      "cell_type": "markdown",
      "source": [
        "Task 4\n",
        "Design a BankAccount class with methods for deposit, withdrawal, and balance inquiry.\n",
        "Input:\n",
        "account = BankAccount()\n",
        "account.deposit(1000)\n",
        "account.withdraw(200)     output:Balance after deposit: 1000\n",
        "Balance after withdrawal: 800\n",
        "account.get_balance()\n"
      ],
      "metadata": {
        "id": "WXyz-FLf1kHF"
      }
    },
    {
      "cell_type": "code",
      "source": [
        "class BankAccount:\n",
        "    def __init__(self):\n",
        "        self.balance = 0\n",
        "\n",
        "    def deposit(self, amount):\n",
        "        if amount > 0:\n",
        "            self.balance += amount\n",
        "            print(f\"Balance after deposit: {self.balance}\")\n",
        "        else:\n",
        "            print(\"Deposit amount must be positive.\")\n",
        "\n",
        "    def withdraw(self, amount):\n",
        "        if amount > 0:\n",
        "            if amount <= self.balance:\n",
        "                self.balance -= amount\n",
        "                print(f\"Balance after withdrawal: {self.balance}\")\n",
        "            else:\n",
        "                print(\"Insufficient funds.\")\n",
        "        else:\n",
        "            print(\"Withdrawal amount must be positive.\")\n",
        "\n",
        "    def get_balance(self):\n",
        "        print(f\"Current balance: {self.balance}\")\n",
        "        return self.balance\n",
        "\n",
        "\n",
        "account = BankAccount()\n",
        "account.deposit(1000)\n",
        "account.withdraw(200)\n",
        "account.get_balance()\n"
      ],
      "metadata": {
        "colab": {
          "base_uri": "https://localhost:8080/"
        },
        "id": "mCrCS1oa10Ry",
        "outputId": "90a58c0f-3942-4496-ec89-c16ab1672982"
      },
      "execution_count": null,
      "outputs": [
        {
          "output_type": "stream",
          "name": "stdout",
          "text": [
            "Balance after deposit: 1000\n",
            "Balance after withdrawal: 800\n",
            "Current balance: 800\n"
          ]
        },
        {
          "output_type": "execute_result",
          "data": {
            "text/plain": [
              "800"
            ]
          },
          "metadata": {},
          "execution_count": 22
        }
      ]
    },
    {
      "cell_type": "markdown",
      "source": [
        "Task 5\n",
        "Validate user input as an integer.\n",
        "Input: \"abc\"\n",
        "Output: Invalid input. Please enter a number.\n",
        "Input: \"123\"\n",
        "Output: You entered: 123"
      ],
      "metadata": {
        "id": "2uz5TJFP196S"
      }
    },
    {
      "cell_type": "code",
      "source": [
        "def validate_integer_input():\n",
        "    user_input = input(\"Enter a number: \")\n",
        "    try:\n",
        "\n",
        "        number = int(user_input)\n",
        "        print(f\"You entered: {number}\")\n",
        "    except ValueError:\n",
        "\n",
        "        print(\"Invalid input. Please enter a number.\")\n",
        "\n",
        "validate_integer_input()\n"
      ],
      "metadata": {
        "colab": {
          "base_uri": "https://localhost:8080/"
        },
        "id": "CUPZ4bNp2Byy",
        "outputId": "47a439f1-0c89-4456-c06c-57ece89a7f63"
      },
      "execution_count": null,
      "outputs": [
        {
          "output_type": "stream",
          "name": "stdout",
          "text": [
            "Enter a number: 123\n",
            "You entered: 123\n"
          ]
        }
      ]
    },
    {
      "cell_type": "markdown",
      "source": [
        "Task 7\n",
        "Fetch data from a public API and display it.\n",
        "Input: Call an API like https://jsonplaceholder.typicode.com/posts/1\n",
        "Output:\n",
        "{\n",
        "\"userId\": 1,\n",
        "\"id\": 1,\n",
        "\"title\": \"sunt aut facere repellat provident occaecati\",\n",
        "\"body\": \"quia et suscipit suscipit recusandae\"\n",
        "}\n"
      ],
      "metadata": {
        "id": "MNj8rCUQf4ia"
      }
    },
    {
      "cell_type": "code",
      "source": [
        "import requests\n",
        "\n",
        "def fetch_data_from_api():\n",
        "    try:\n",
        "        response = requests.get(\"https://jsonplaceholder.typicode.com/posts/1\")\n",
        "        if response.status_code == 200:\n",
        "            data = response.json()\n",
        "            print(\"output:\")\n",
        "            print(data)\n",
        "        else:\n",
        "          print(f\"failed to fetch data. Status code: {response.status_code}\")\n",
        "    except requests.exceptions.RequestException as e:\n",
        "        print(f\"Error: {e}\")\n",
        "\n",
        "fetch_data_from_api()\n"
      ],
      "metadata": {
        "colab": {
          "base_uri": "https://localhost:8080/"
        },
        "id": "sXlf1dZ0guNv",
        "outputId": "0bebd10b-6908-4edb-da3c-c109d0f3a026"
      },
      "execution_count": null,
      "outputs": [
        {
          "output_type": "stream",
          "name": "stdout",
          "text": [
            "output:\n",
            "{'userId': 1, 'id': 1, 'title': 'sunt aut facere repellat provident occaecati excepturi optio reprehenderit', 'body': 'quia et suscipit\\nsuscipit recusandae consequuntur expedita et cum\\nreprehenderit molestiae ut ut quas totam\\nnostrum rerum est autem sunt rem eveniet architecto'}\n"
          ]
        }
      ]
    },
    {
      "cell_type": "markdown",
      "source": [
        "Task 8\n",
        "Extract email addresses from a text file.\n",
        "Input (file content):\n",
        "Contact us at support@example.com or admin@example.org.\n",
        "Output: ['support@example.com', 'admin@example.org']\n"
      ],
      "metadata": {
        "id": "uDFRjJu9jZAW"
      }
    },
    {
      "cell_type": "code",
      "source": [
        "import re\n",
        "\n",
        "def extract_email_addresses(file_content):\n",
        "  try:\n",
        "    email_pattern = r\"[\\w._%+-]+@[\\w.-]+\\.[a-zA-Z]{2,}\"\n",
        "    emails = re.findall(email_pattern,file_content)\n",
        "\n",
        "    print(\"output:\")\n",
        "    print(emails)\n",
        "  except Exception as e:\n",
        "    print(f\"An error occurred: {e}\")\n",
        "\n",
        "file_content = \"Contact us at support@example.com or admin@example.org.\"\n",
        "extract_email_addresses(file_content)\n"
      ],
      "metadata": {
        "colab": {
          "base_uri": "https://localhost:8080/"
        },
        "id": "nivKpEO1jfEL",
        "outputId": "05b7f9c7-980c-4a2f-975a-ada784e1cf52"
      },
      "execution_count": null,
      "outputs": [
        {
          "output_type": "stream",
          "name": "stdout",
          "text": [
            "output:\n",
            "['support@example.com', 'admin@example.org']\n"
          ]
        }
      ]
    },
    {
      "cell_type": "markdown",
      "source": [
        "Task 9\n",
        "Calculate mean, median, and mode of a dataset.\n",
        "Input: [1, 2, 2, 3, 4]                                                                                                        Output:\n",
        "Mean: 2.4\n",
        "Median: 2\n",
        "Mode: 2     "
      ],
      "metadata": {
        "id": "ZzEKTZckpksf"
      }
    },
    {
      "cell_type": "code",
      "source": [
        "import statistics\n",
        "def calculate_statistics(dataset):\n",
        "  try:\n",
        "    mean = statistics.mean(dataset)\n",
        "    median = statistics.median(dataset)\n",
        "    mode = statistics.mode(dataset)\n",
        "\n",
        "    print(\"output:\")\n",
        "    print(f\"mean:{mean}\")\n",
        "    print(f\"median:{median}\")\n",
        "    print(f\"mode:{mode}\")\n",
        "  except exception as e:\n",
        "    print(f\"an error occured:{e}\")\n",
        "\n",
        "dataset =[1,2,2,3,4]\n",
        "calculate_statistics(dataset)\n",
        "\n"
      ],
      "metadata": {
        "colab": {
          "base_uri": "https://localhost:8080/"
        },
        "id": "sOldLnwCp_N4",
        "outputId": "42b50e61-5389-43f8-dcf9-a6b6f598f236"
      },
      "execution_count": null,
      "outputs": [
        {
          "output_type": "stream",
          "name": "stdout",
          "text": [
            "output:\n",
            "mean:2.4\n",
            "median:2\n",
            "mode:2\n"
          ]
        }
      ]
    },
    {
      "cell_type": "markdown",
      "source": [
        "Task 10\n",
        "Implement unit tests for factorial calculation.\n",
        "Input: factorial(5)\n",
        "Output: 120\n",
        "\n",
        "Test Case Output:\n",
        "Test Passed for input 5\n",
        "Test Passed for input 0"
      ],
      "metadata": {
        "id": "mf6zjzOHrYUp"
      }
    },
    {
      "cell_type": "code",
      "source": [
        "import unittest\n",
        "\n",
        "def factorial(n):\n",
        "    if n == 0:\n",
        "        return 1\n",
        "    return n * factorial(n - 1)\n",
        "\n",
        "class TestFactorial(unittest.TestCase):\n",
        "    def test_factorial_positive(self):\n",
        "        self.assertEqual(factorial(5), 120)\n",
        "        print(\"Test Passed for input 5\")\n",
        "\n",
        "    def test_factorial_zero(self):\n",
        "        self.assertEqual(factorial(0), 1)\n",
        "        print(\"Test Passed for input 0\")\n",
        "\n",
        "    def test_factorial_negative(self):\n",
        "        with self.assertRaises(RecursionError):\n",
        "            factorial(-1)\n",
        "\n",
        "unittest.main(argv=[''], exit=False)\n",
        "\n"
      ],
      "metadata": {
        "colab": {
          "base_uri": "https://localhost:8080/"
        },
        "id": "nC1dnqzBrZoC",
        "outputId": "1c821513-e9f9-489b-beee-c8e5af431a6d"
      },
      "execution_count": 8,
      "outputs": [
        {
          "output_type": "stream",
          "name": "stderr",
          "text": [
            "...\n",
            "----------------------------------------------------------------------\n",
            "Ran 3 tests in 54.284s\n",
            "\n",
            "OK\n"
          ]
        },
        {
          "output_type": "stream",
          "name": "stdout",
          "text": [
            "Test Passed for input 5\n",
            "Test Passed for input 0\n"
          ]
        },
        {
          "output_type": "execute_result",
          "data": {
            "text/plain": [
              "<unittest.main.TestProgram at 0x7e82614a5600>"
            ]
          },
          "metadata": {},
          "execution_count": 8
        }
      ]
    },
    {
      "cell_type": "markdown",
      "source": [
        "Task 11\n",
        "Parse a JSON file and print keys and values.\n",
        "Input (JSON file):\n",
        "{\n",
        "\"name\": \"Alice\",\n",
        "\"age\": 30,\n",
        "\"city\": \"Wonderland\"\n",
        "}\n",
        "Output:\n",
        "name: Alice\n",
        "age: 30\n",
        "city: Wonderland"
      ],
      "metadata": {
        "id": "xeFYTOni2zUb"
      }
    },
    {
      "cell_type": "code",
      "source": [
        "import json\n",
        "\n",
        "json_data = '''\n",
        "{\n",
        "\"name\": \"Alice\",\n",
        "\"age\": 30,\n",
        "\"city\": \"Wonderland\"\n",
        "}\n",
        "'''\n",
        "\n",
        "data = json.loads(json_data)\n",
        "for key,value in data.items():\n",
        "  print(f\"{key}:{value}\")\n"
      ],
      "metadata": {
        "id": "Bkj7iRqp3CBF",
        "colab": {
          "base_uri": "https://localhost:8080/"
        },
        "outputId": "03215455-a76d-461d-d3be-665bab988517"
      },
      "execution_count": 1,
      "outputs": [
        {
          "output_type": "stream",
          "name": "stdout",
          "text": [
            "name:Alice\n",
            "age:30\n",
            "city:Wonderland\n"
          ]
        }
      ]
    },
    {
      "cell_type": "markdown",
      "source": [
        "Task 12\n",
        "Scrape and print news headlines.\n",
        "Input: URL of a news website.                                                                                                  Output:\n",
        "1. Headline 1\n",
        "2. Headline 2\n",
        "3. Headline 3"
      ],
      "metadata": {
        "id": "WO-IZmMr73tT"
      }
    },
    {
      "cell_type": "code",
      "source": [
        "import requests\n",
        "from bs4 import BeautifulSoup\n",
        "\n",
        "def scrape_headlines(url):\n",
        "    try:\n",
        "\n",
        "        response = requests.get(url)\n",
        "        response.raise_for_status()\n",
        "\n",
        "        soup = BeautifulSoup(response.text, 'html.parser')\n",
        "\n",
        "        headlines = soup.find_all(['h1', 'h2', 'h3'])\n",
        "\n",
        "        print(\"News Headlines:\")\n",
        "        for i, headline in enumerate(headlines[:10], start=1):  # Limit to top 10 headlines\n",
        "            text = headline.get_text(strip=True)\n",
        "            if text:\n",
        "                print(f\"{i}. {text}\")\n",
        "    except Exception as e:\n",
        "        print(f\"Error: {e}\")\n",
        "\n",
        "news_url = input(\"Enter the URL of a news website: \")\n",
        "scrape_headlines(news_url)"
      ],
      "metadata": {
        "colab": {
          "base_uri": "https://localhost:8080/"
        },
        "id": "ER8HnhYq8CrK",
        "outputId": "8ce8adcb-2fdd-43ad-a0c9-4d81dd55e160"
      },
      "execution_count": 2,
      "outputs": [
        {
          "output_type": "stream",
          "name": "stdout",
          "text": [
            "Enter the URL of a news website: abcmaza@gmail.com\n",
            "Error: Invalid URL 'abcmaza@gmail.com': No scheme supplied. Perhaps you meant https://abcmaza@gmail.com?\n"
          ]
        }
      ]
    },
    {
      "cell_type": "markdown",
      "source": [
        "Task 13\n",
        "Implement the binary search algorithm.\n",
        "Input: arr = [1, 3, 5, 7, 9], target = 7\n",
        "Output: Found at index 3"
      ],
      "metadata": {
        "id": "sU95u_qd8-Dg"
      }
    },
    {
      "cell_type": "code",
      "source": [
        "def binary_search(arr, target):\n",
        "    left, right = 0, len(arr) - 1\n",
        "    while left <= right:\n",
        "        mid = left + (right - left) // 2\n",
        "        if arr[mid] == target:\n",
        "            return mid\n",
        "        elif arr[mid] < target:\n",
        "            left = mid + 1\n",
        "        else:\n",
        "            right = mid - 1\n",
        "    return -1\n",
        "\n",
        "arr = [1, 3, 5, 7, 9]\n",
        "target = 7\n",
        "result = binary_search(arr, target)\n",
        "if result != -1:\n",
        "    print(f\"Found at index {result}\")\n",
        "else:\n",
        "    print(\"Not found\")"
      ],
      "metadata": {
        "colab": {
          "base_uri": "https://localhost:8080/"
        },
        "id": "Db6PYf-59Be4",
        "outputId": "fe8bf4fe-85e6-46b5-e2a5-083acb8cb1bc"
      },
      "execution_count": 4,
      "outputs": [
        {
          "output_type": "stream",
          "name": "stdout",
          "text": [
            "Found at index 3\n"
          ]
        }
      ]
    },
    {
      "cell_type": "markdown",
      "source": [
        "Task 14\n",
        "Count word frequency in a paragraph.\n",
        "Input: \"apple banana apple orange banana banana\"\n",
        "Output:\n",
        "apple: 2\n",
        "banana: 3\n",
        "orange: 1"
      ],
      "metadata": {
        "id": "yKU09W5F-HCs"
      }
    },
    {
      "cell_type": "code",
      "source": [
        "def count_word_frequency(paragraph):\n",
        "    words = paragraph.split()\n",
        "    frequency = {}\n",
        "    for word in words:\n",
        "        frequency[word] = frequency.get(word, 0) + 1\n",
        "    return frequency\n",
        "paragraph = \"apple banana apple orange banana banana\"\n",
        "result = count_word_frequency(paragraph)\n",
        "for word, count in result.items():\n",
        "    print(f\"{word}: {count}\")"
      ],
      "metadata": {
        "colab": {
          "base_uri": "https://localhost:8080/"
        },
        "id": "nG8FVeXH-gCH",
        "outputId": "da1de3b7-3384-48aa-8dc9-51fe37890100"
      },
      "execution_count": 5,
      "outputs": [
        {
          "output_type": "stream",
          "name": "stdout",
          "text": [
            "apple: 2\n",
            "banana: 3\n",
            "orange: 1\n"
          ]
        }
      ]
    },
    {
      "cell_type": "markdown",
      "source": [
        "Task 15\n",
        "Refactor poorly written code.\n",
        "Input (unoptimized code):\n",
        "\n",
        "def unoptimized_code(numbers):\n",
        "result = \"\"\n",
        "\n",
        "for num in numbers:\n",
        "if num % 2 == 0:\n",
        "square = num * num\n",
        "result += f\"Square of {num} is {square}\\n\"                                                                  max_num = -1\n",
        "for num in numbers:\n",
        "if num > max_num:\n",
        "max_num = num\n",
        "\n",
        "count_dict = {}\n",
        "for num in numbers:\n",
        "if num in count_dict:\n",
        "count_dict[num] += 1\n",
        "else:\n",
        "count_dict[num] = 1\n",
        "\n",
        "result += f\"\\nMax number is {max_num}\\n\"\n",
        "result += \"Number counts:\\n\"\n",
        "for num, count in count_dict.items():\n",
        "result += f\"{num}: {count}\\n\"\n",
        "\n",
        "return result\n",
        "\n",
        "Output:(Optimised Code)"
      ],
      "metadata": {
        "id": "1oc37sezE0E9"
      }
    },
    {
      "cell_type": "code",
      "source": [
        "def optimized_code(numbers):\n",
        "    squares = [f\"Square of {num} is {num * num}\" for num in numbers if num % 2 == 0]\n",
        "    max_num = max(numbers)\n",
        "    count_dict = {num: numbers.count(num) for num in set(numbers)}\n",
        "    result = \"\\n\".join(squares) + f\"\\n\\nMax number is {max_num}\\nNumber counts:\\n\"\n",
        "    result += \"\\n\".join(f\"{num}: {count}\" for num, count in count_dict.items())\n",
        "    return result\n",
        "\n",
        "numbers = [1, 2, 3, 4, 2, 3, 2, 5]\n",
        "output = optimized_code(numbers)\n",
        "print(output)\n"
      ],
      "metadata": {
        "colab": {
          "base_uri": "https://localhost:8080/"
        },
        "id": "9LxogcwqFG0a",
        "outputId": "1594bb6d-2971-48b5-84fb-5c2bc419cfbd"
      },
      "execution_count": 6,
      "outputs": [
        {
          "output_type": "stream",
          "name": "stdout",
          "text": [
            "Square of 2 is 4\n",
            "Square of 4 is 16\n",
            "Square of 2 is 4\n",
            "Square of 2 is 4\n",
            "\n",
            "Max number is 5\n",
            "Number counts:\n",
            "1: 1\n",
            "2: 3\n",
            "3: 2\n",
            "4: 1\n",
            "5: 1\n"
          ]
        }
      ]
    }
  ]
}